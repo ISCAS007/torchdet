{
 "cells": [
  {
   "cell_type": "markdown",
   "metadata": {},
   "source": [
    "# dataset\n",
    "- http://www.cis.upenn.edu/~jshi/ped_html/ 52MB /media/sdb/CVDataset/ObjectDetection/PennFudanPed Penn-Fudan Database for Pedestrian Detection and Segmentation\n",
    "- http://www.cvlibs.net/datasets/kitti/eval_object.php?obj_benchmark=2d 12GB(dowqloaded in /media/sdb/CVDataset/ObjectDetection/KITTI)\n",
    "- http://cocodataset.org/#download /media/sdb/CVDataset/ObjectSegmentation/coco"
   ]
  },
  {
   "cell_type": "code",
   "execution_count": null,
   "metadata": {},
   "outputs": [],
   "source": [
    "import sys\n",
    "sys.path.insert(0,os.path.expanduser('~/git/torchdet'))\n",
    "print(sys.path)\n",
    "\n",
    "import os\n",
    "os.chdir(os.path.expanduser('~/git/torchdet'))"
   ]
  },
  {
   "cell_type": "code",
   "execution_count": 2,
   "metadata": {},
   "outputs": [
    {
     "name": "stdout",
     "output_type": "stream",
     "text": [
      "loading annotations into memory...\n",
      "Done (t=11.22s)\n",
      "creating index...\n",
      "index created!\n"
     ]
    }
   ],
   "source": [
    "from dataset.det2seg import get_dataset\n",
    "import matplotlib.pyplot as plt\n",
    "from easydict import EasyDict as edict\n",
    "\n",
    "config=edict()\n",
    "config.dataset_name='coco2014'\n",
    "config.root_path='dataset/coco'\n",
    "split='train'\n",
    "\n",
    "d=get_dataset(config,split)\n"
   ]
  },
  {
   "cell_type": "code",
   "execution_count": 20,
   "metadata": {
    "scrolled": true
   },
   "outputs": [
    {
     "name": "stderr",
     "output_type": "stream",
     "text": [
      "100%|██████████| 82783/82783 [2:25:46<00:00, 10.01it/s]  "
     ]
    },
    {
     "name": "stdout",
     "output_type": "stream",
     "text": [
      "[702, 16128, 31183, 21293, 10012, 2799, 536, 103, 21, 3, 0, 2, 1, 0, 0, 0, 0, 0, 0, 0]\n"
     ]
    },
    {
     "name": "stderr",
     "output_type": "stream",
     "text": [
      "\n"
     ]
    }
   ],
   "source": [
    "import numpy as np\n",
    "from tqdm import trange\n",
    "count=[0 for i in range(20)]\n",
    "\n",
    "for i in trange(len(d)):\n",
    "    data=d.__getitem__(i)\n",
    "    max_idx=np.max(data['overlap_map'].data.cpu().numpy())\n",
    "    if max_idx<20:\n",
    "        count[max_idx]+=1\n",
    "    else:\n",
    "        count[-1]+=1\n",
    "\n",
    "print(count)"
   ]
  },
  {
   "cell_type": "code",
   "execution_count": null,
   "metadata": {},
   "outputs": [],
   "source": [
    "import torch\n",
    "from IPython import get_ipython\n",
    "ipython = get_ipython()\n",
    "\n",
    "ipython.magic(\"pylab widgetsnbextension\")\n",
    "ipython.magic(\"load_ext autoreload\")\n",
    "ipython.magic(\"autoreload 2\")\n",
    "from dataset.PennFudan import PennFudanDataset\n",
    "\n",
    "d=PennFudanDataset(root=os.path.expanduser('~/cvdataset/PennFudanPed'),transforms=None)\n",
    "\n",
    "for i in range(5):\n",
    "    sample=d.__getitem__(i)\n",
    "    print(sample['annot'],sample['annot'].dtype,torch.from_numpy(sample['annot']))\n",
    "    print(np.max(sample['img']),np.min(sample['img']),sample['img'].dtype)"
   ]
  },
  {
   "cell_type": "code",
   "execution_count": null,
   "metadata": {},
   "outputs": [],
   "source": [
    "from dataset.det2seg import get_dataset\n",
    "import matplotlib.pyplot as plt\n",
    "from easydict import EasyDict as edict\n",
    "\n",
    "config=edict()\n",
    "config.dataset_name='PennFudanPed'\n",
    "config.root_path=os.path.expanduser('~/cvdataset/PennFudanPed')\n",
    "split='train'\n",
    "\n",
    "d=get_dataset(config,split)"
   ]
  },
  {
   "cell_type": "code",
   "execution_count": null,
   "metadata": {},
   "outputs": [],
   "source": [
    "import numpy as np\n",
    "from tqdm import tnrange\n",
    "count=[0 for i in range(20)]\n",
    "\n",
    "for i in tnrange(len(d)):\n",
    "    data=d.__getitem__(i)\n",
    "    max_idx=np.max(data['overlap_map'].data.cpu().numpy())\n",
    "    if max_idx<20:\n",
    "        count[max_idx]+=1\n",
    "    else:\n",
    "        count[-1]+=1\n",
    "\n",
    "print(count)"
   ]
  }
 ],
 "metadata": {
  "kernelspec": {
   "display_name": "Python [conda env:cuda10.0]",
   "language": "python",
   "name": "conda-env-cuda10.0-py"
  }
 },
 "nbformat": 4,
 "nbformat_minor": 2
}
