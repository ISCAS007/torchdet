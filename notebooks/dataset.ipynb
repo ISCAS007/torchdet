{
 "cells": [
  {
   "cell_type": "markdown",
   "metadata": {},
   "source": [
    "# dataset\n",
    "- http://www.cis.upenn.edu/~jshi/ped_html/ 52MB /media/sdb/CVDataset/ObjectDetection/PennFudanPed Penn-Fudan Database for Pedestrian Detection and Segmentation\n",
    "- http://www.cvlibs.net/datasets/kitti/eval_object.php?obj_benchmark=2d 12GB(dowqloaded in /media/sdb/CVDataset/ObjectDetection/KITTI)\n",
    "- http://cocodataset.org/#download /media/sdb/CVDataset/ObjectSegmentation/coco"
   ]
  },
  {
   "cell_type": "code",
   "execution_count": 1,
   "metadata": {},
   "outputs": [
    {
     "name": "stdout",
     "output_type": "stream",
     "text": [
      "['/home/yzbx/git/torchdet', '', '/home/yzbx/git/torchdet/notebooks', '/home/yzbx/git/gnu/models/research', '/home/yzbx/git/gnu/models/research/slim', '/home/yzbx/bin/miniconda3/envs/cuda10.0/lib/python36.zip', '/home/yzbx/bin/miniconda3/envs/cuda10.0/lib/python3.6', '/home/yzbx/bin/miniconda3/envs/cuda10.0/lib/python3.6/lib-dynload', '/home/yzbx/.local/lib/python3.6/site-packages', '/home/yzbx/bin/miniconda3/envs/cuda10.0/lib/python3.6/site-packages', '/home/yzbx/bin/miniconda3/envs/cuda10.0/lib/python3.6/site-packages/pycocotools-2.0-py3.6-linux-x86_64.egg', '/home/yzbx/bin/miniconda3/envs/cuda10.0/lib/python3.6/site-packages/matplotlib-3.1.0-py3.6-linux-x86_64.egg', '/home/yzbx/bin/miniconda3/envs/cuda10.0/lib/python3.6/site-packages/kiwisolver-1.1.0-py3.6-linux-x86_64.egg', '/home/yzbx/bin/miniconda3/envs/cuda10.0/lib/python3.6/site-packages/cycler-0.10.0-py3.6.egg', '/home/yzbx/bin/miniconda3/envs/cuda10.0/lib/python3.6/site-packages/IPython/extensions', '/home/yzbx/.ipython']\n"
     ]
    }
   ],
   "source": [
    "import sys\n",
    "sys.path.insert(0,os.path.expanduser('~/git/torchdet'))\n",
    "print(sys.path)\n",
    "\n",
    "import os\n",
    "os.chdir(os.path.expanduser('~/git/torchdet'))"
   ]
  },
  {
   "cell_type": "code",
   "execution_count": 2,
   "metadata": {},
   "outputs": [
    {
     "name": "stdout",
     "output_type": "stream",
     "text": [
      "loading annotations into memory...\n",
      "Done (t=11.22s)\n",
      "creating index...\n",
      "index created!\n"
     ]
    }
   ],
   "source": [
    "from dataset.det2seg import get_dataset\n",
    "import matplotlib.pyplot as plt\n",
    "from easydict import EasyDict as edict\n",
    "\n",
    "config=edict()\n",
    "config.dataset_name='coco2014'\n",
    "config.root_path='dataset/coco'\n",
    "split='train'\n",
    "\n",
    "d=get_dataset(config,split)\n"
   ]
  },
  {
   "cell_type": "code",
   "execution_count": 20,
   "metadata": {
    "scrolled": true
   },
   "outputs": [
    {
     "name": "stderr",
     "output_type": "stream",
     "text": [
      "100%|██████████| 82783/82783 [2:25:46<00:00, 10.01it/s]  "
     ]
    },
    {
     "name": "stdout",
     "output_type": "stream",
     "text": [
      "[702, 16128, 31183, 21293, 10012, 2799, 536, 103, 21, 3, 0, 2, 1, 0, 0, 0, 0, 0, 0, 0]\n"
     ]
    },
    {
     "name": "stderr",
     "output_type": "stream",
     "text": [
      "\n"
     ]
    }
   ],
   "source": [
    "import numpy as np\n",
    "from tqdm import trange\n",
    "count=[0 for i in range(20)]\n",
    "\n",
    "for i in trange(len(d)):\n",
    "    data=d.__getitem__(i)\n",
    "    max_idx=np.max(data['overlap_map'])\n",
    "    if max_idx<20:\n",
    "        count[max_idx]+=1\n",
    "    else:\n",
    "        count[-1]+=1\n",
    "\n",
    "print(count)"
   ]
  },
  {
   "cell_type": "code",
   "execution_count": 19,
   "metadata": {},
   "outputs": [
    {
     "name": "stdout",
     "output_type": "stream",
     "text": [
      "82783\n"
     ]
    }
   ],
   "source": [
    "print(len(d))"
   ]
  }
 ],
 "metadata": {
  "kernelspec": {
   "display_name": "Python [conda env:cuda10.0]",
   "language": "python",
   "name": "conda-env-cuda10.0-py"
  },
  "language_info": {
   "codemirror_mode": {
    "name": "ipython",
    "version": 3
   },
   "file_extension": ".py",
   "mimetype": "text/x-python",
   "name": "python",
   "nbconvert_exporter": "python",
   "pygments_lexer": "ipython3",
   "version": "3.6.8"
  }
 },
 "nbformat": 4,
 "nbformat_minor": 2
}
